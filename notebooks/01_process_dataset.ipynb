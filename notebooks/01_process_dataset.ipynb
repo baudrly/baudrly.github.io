{
  "cells": [
    {
      "cell_type": "code",
      "source": [
        "import numpy as np\n",
        "import pandas as pd\n",
        "import pickle\n",
        "\n",
        "\n",
        "def fcgr(seq: str, k: int=8):\n",
        "    letter_to_num = {\n",
        "        'A': 0, 'C': 1, 'G': 2, 'T': 3,\n",
        "    }\n",
        "\n",
        "    letter_to_x = {\n",
        "        'A': 0, 'C': 1, 'G': 0, 'T': 1,\n",
        "    }\n",
        "\n",
        "    letter_to_y = {\n",
        "        'A': 0, 'C': 0, 'G': 1, 'T': 1\n",
        "    }\n",
        "\n",
        "    IMGSIZE = 2 ** k\n",
        "    img = np.zeros((IMGSIZE, IMGSIZE))\n",
        "\n",
        "    substrs = [seq[i:i+k] for i in range(len(seq)-k+1)]\n",
        "\n",
        "    for substr in substrs:\n",
        "        x = 0\n",
        "        y = 0\n",
        "        for i, s in enumerate(substr):\n",
        "            x = x + letter_to_x[s] * IMGSIZE/(2 ** (i+1))\n",
        "            y = y + letter_to_y[s] * IMGSIZE / (2 ** (i+1))\n",
        "        img[int(y), int(x)] += 1\n",
        "\n",
        "    return img\n",
        "\n"
      ],
      "outputs": [],
      "execution_count": 3,
      "metadata": {
        "gather": {
          "logged": 1701367036493
        }
      }
    },
    {
      "cell_type": "code",
      "source": [
        "\n",
        "df = pd.read_csv('data/sequences_annotations.tsv')\n",
        "anns, seqs = df[['annotation', 'sequence']]\n",
        "#preprocess_inputs(sequences, annotations)\n",
        "imgs = [fcgr(seq, 7) for seq in seqs]\n",
        "preprocessed = [\n",
        "    {\n",
        "        'annotation': record[0],\n",
        "        'sequence': record[1],\n",
        "        'image': record[2],\n",
        "    }\n",
        "    for record in zip(anns, seqs, imgs)\n",
        "]\n",
        "with open('data/preprocessed.pickle', 'wb') as f:\n",
        "    # Pickle the 'data' dictionary using the highest protocol available.\n",
        "    pickle.dump(preprocessed, f, pickle.HIGHEST_PROTOCOL)"
      ],
      "outputs": [],
      "execution_count": 5,
      "metadata": {
        "jupyter": {
          "source_hidden": false,
          "outputs_hidden": false
        },
        "nteract": {
          "transient": {
            "deleting": false
          }
        },
        "gather": {
          "logged": 1701367587004
        }
      }
    },
    {
      "cell_type": "code",
      "source": [],
      "outputs": [],
      "execution_count": null,
      "metadata": {
        "jupyter": {
          "source_hidden": false,
          "outputs_hidden": false
        },
        "nteract": {
          "transient": {
            "deleting": false
          }
        }
      }
    }
  ],
  "metadata": {
    "kernelspec": {
      "name": "python310-sdkv2",
      "language": "python",
      "display_name": "Python 3.10 - SDK v2"
    },
    "language_info": {
      "name": "python",
      "version": "3.10.11",
      "mimetype": "text/x-python",
      "codemirror_mode": {
        "name": "ipython",
        "version": 3
      },
      "pygments_lexer": "ipython3",
      "nbconvert_exporter": "python",
      "file_extension": ".py"
    },
    "microsoft": {
      "ms_spell_check": {
        "ms_spell_check_language": "en"
      },
      "host": {
        "AzureML": {
          "notebookHasBeenCompleted": true
        }
      }
    },
    "kernel_info": {
      "name": "python310-sdkv2"
    },
    "nteract": {
      "version": "nteract-front-end@1.0.0"
    }
  },
  "nbformat": 4,
  "nbformat_minor": 2
}